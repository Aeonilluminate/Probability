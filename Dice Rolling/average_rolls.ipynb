{
 "cells": [
  {
   "cell_type": "code",
   "execution_count": 21,
   "metadata": {},
   "outputs": [
    {
     "name": "stdout",
     "output_type": "stream",
     "text": [
      "+-------------+----------------+---------------------+------------------------+\n",
      "| Dice Type   |   AVERAGE ROLL |   ADVANTAGE AVERAGE |   DISADVANTAGE AVERAGE |\n",
      "+=============+================+=====================+========================+\n",
      "| D4          |            2.5 |                3.12 |                   1.88 |\n",
      "+-------------+----------------+---------------------+------------------------+\n",
      "| D6          |            3.5 |                4.47 |                   2.53 |\n",
      "+-------------+----------------+---------------------+------------------------+\n",
      "| D8          |            4.5 |                5.81 |                   3.19 |\n",
      "+-------------+----------------+---------------------+------------------------+\n",
      "| D10         |            5.5 |                7.15 |                   3.85 |\n",
      "+-------------+----------------+---------------------+------------------------+\n",
      "| D12         |            6.5 |                8.49 |                   4.51 |\n",
      "+-------------+----------------+---------------------+------------------------+\n",
      "| D20         |           10.5 |               13.83 |                   7.17 |\n",
      "+-------------+----------------+---------------------+------------------------+\n"
     ]
    }
   ],
   "source": [
    "from tabulate import tabulate\n",
    "\n",
    "def average_roll(n):\n",
    "    AVERAGE = 0\n",
    "    for roll in range(1, n + 1):\n",
    "        AVERAGE += roll\n",
    "    AVERAGE /= n\n",
    "    return AVERAGE\n",
    "\n",
    "def advantage_average(n):\n",
    "    ADVANTAGE_AVERAGE = 0\n",
    "    for roll in range(1, n + 1):\n",
    "        avg_roll_change = 0\n",
    "        for additional_roll in range(1, n + 1):\n",
    "            if additional_roll >= roll:\n",
    "                avg_roll_change += additional_roll\n",
    "            else:\n",
    "                avg_roll_change += roll\n",
    "        avg_roll_change /= n\n",
    "        ADVANTAGE_AVERAGE += avg_roll_change\n",
    "    ADVANTAGE_AVERAGE /= n\n",
    "    return ADVANTAGE_AVERAGE\n",
    "\n",
    "def disadvantage_average(n):\n",
    "    DISADVANTAGE_AVERAGE = 0\n",
    "    for roll in range(1, n + 1):\n",
    "        avg_roll_change = 0\n",
    "        for additional_roll in range(1, n + 1):\n",
    "            if additional_roll < roll:\n",
    "                avg_roll_change += additional_roll\n",
    "            else:\n",
    "                avg_roll_change += roll\n",
    "        avg_roll_change /= n\n",
    "        DISADVANTAGE_AVERAGE += avg_roll_change\n",
    "    DISADVANTAGE_AVERAGE /= n\n",
    "    return DISADVANTAGE_AVERAGE\n",
    "\n",
    "roll_functions = {'AVERAGE ROLL': average_roll,\n",
    "              'ADVANTAGE AVERAGE': advantage_average,\n",
    "              'DISADVANTAGE AVERAGE': disadvantage_average}\n",
    "\n",
    "roll_labels = [label for label in roll_functions.keys()]\n",
    "index_label = ['Dice Type']\n",
    "title_row = index_label + roll_labels\n",
    "data = [title_row]\n",
    "\n",
    "for n in [4, 6, 8, 10, 12, 20]:\n",
    " index = [f'D{n}']\n",
    " row_values = [round(f(n), ndigits=2) for f in roll_functions.values()]\n",
    " data.append(index + row_values)\n",
    "print(tabulate(data, headers='firstrow', tablefmt='grid'))\n"
   ]
  },
  {
   "cell_type": "code",
   "execution_count": 7,
   "metadata": {},
   "outputs": [
    {
     "name": "stdout",
     "output_type": "stream",
     "text": [
      "[1, 2, 3, 2, 3, 4]\n"
     ]
    }
   ],
   "source": [
    "x = {}\n",
    "y = [2, 3, 4]\n",
    "\n",
    "z = x + y\n",
    "print(z)"
   ]
  },
  {
   "cell_type": "code",
   "execution_count": 16,
   "metadata": {},
   "outputs": [
    {
     "name": "stdout",
     "output_type": "stream",
     "text": [
      "[2.5, 3.125, 1.875]\n",
      "[3.5, 4.472222222222222, 2.5277777777777777]\n",
      "[4.5, 5.8125, 3.1875]\n"
     ]
    }
   ],
   "source": [
    "roll_functions = {'AVERAGE ROLL': average_roll,\n",
    "              'ADVANTAGE AVERAGE': advantage_average,\n",
    "              'DISADVANTAGE AVERAGE': disadvantage_average}\n",
    "\n",
    "for n in [4, 6, 8]:\n",
    "    lst = [f(n) for f in roll_functions.values()]\n",
    "    print(lst)"
   ]
  },
  {
   "cell_type": "code",
   "execution_count": null,
   "metadata": {},
   "outputs": [],
   "source": []
  }
 ],
 "metadata": {
  "kernelspec": {
   "display_name": "ML_env",
   "language": "python",
   "name": "python3"
  },
  "language_info": {
   "codemirror_mode": {
    "name": "ipython",
    "version": 3
   },
   "file_extension": ".py",
   "mimetype": "text/x-python",
   "name": "python",
   "nbconvert_exporter": "python",
   "pygments_lexer": "ipython3",
   "version": "3.12.1"
  }
 },
 "nbformat": 4,
 "nbformat_minor": 2
}
